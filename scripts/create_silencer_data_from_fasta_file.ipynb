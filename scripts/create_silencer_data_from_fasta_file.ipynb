{
 "cells": [
  {
   "cell_type": "code",
   "execution_count": 44,
   "metadata": {},
   "outputs": [],
   "source": [
    "import os, sys\n",
    "from Bio import SeqIO\n",
    "import pandas as pd\n",
    "import random\n",
    "from sklearn.model_selection import train_test_split\n",
    "from os import path"
   ]
  },
  {
   "cell_type": "code",
   "execution_count": 2,
   "metadata": {},
   "outputs": [],
   "source": [
    "ref_fasta= 'data_results/High_throughput_Homo_sapiens.fa'\n",
    "seq_dict= SeqIO.to_dict(SeqIO.parse(open(ref_fasta), 'fasta'))"
   ]
  },
  {
   "cell_type": "code",
   "execution_count": null,
   "metadata": {},
   "outputs": [],
   "source": [
    "from pprint import pprint\n",
    "pprint(seq_dict)"
   ]
  },
  {
   "cell_type": "code",
   "execution_count": 20,
   "metadata": {},
   "outputs": [],
   "source": [
    "len_list, pos_seq_list= [], []\n",
    "for sil_key in seq_dict.keys():\n",
    "    seq_str= str(seq_dict[sil_key].seq).upper()\n",
    "    if len(seq_str) <= 300: \n",
    "        pos_seq_list.append(seq_str)\n",
    "        len_list.append(len(seq_str))   "
   ]
  },
  {
   "cell_type": "code",
   "execution_count": 21,
   "metadata": {},
   "outputs": [
    {
     "data": {
      "text/plain": [
       "{'whiskers': [<matplotlib.lines.Line2D at 0x7f0d4501d7f0>,\n",
       "  <matplotlib.lines.Line2D at 0x7f0d4501dac8>],\n",
       " 'caps': [<matplotlib.lines.Line2D at 0x7f0d4501dda0>,\n",
       "  <matplotlib.lines.Line2D at 0x7f0d4502a0b8>],\n",
       " 'boxes': [<matplotlib.lines.Line2D at 0x7f0d4501d588>],\n",
       " 'medians': [<matplotlib.lines.Line2D at 0x7f0d4502a390>],\n",
       " 'fliers': [<matplotlib.lines.Line2D at 0x7f0d4502a668>],\n",
       " 'means': []}"
      ]
     },
     "execution_count": 21,
     "metadata": {},
     "output_type": "execute_result"
    },
    {
     "data": {
      "image/png": "[encoded data removed]",
      "text/plain": [
       "<Figure size 432x288 with 1 Axes>"
      ]
     },
     "metadata": {
      "needs_background": "light"
     },
     "output_type": "display_data"
    }
   ],
   "source": [
    "import matplotlib.pyplot as plt\n",
    "plt.boxplot(len_list)"
   ]
  },
  {
   "cell_type": "code",
   "execution_count": 22,
   "metadata": {},
   "outputs": [
    {
     "data": {
      "text/plain": [
       "235.89999999999964"
      ]
     },
     "execution_count": 22,
     "metadata": {},
     "output_type": "execute_result"
    }
   ],
   "source": [
    "import numpy as np\n",
    "np.percentile(len_list, 95)"
   ]
  },
  {
   "cell_type": "code",
   "execution_count": 23,
   "metadata": {},
   "outputs": [
    {
     "name": "stdout",
     "output_type": "stream",
     "text": [
      "8283\n"
     ]
    }
   ],
   "source": [
    "print(len([elem for elem in len_list if elem <= 300]))"
   ]
  },
  {
   "cell_type": "code",
   "execution_count": 24,
   "metadata": {},
   "outputs": [
    {
     "data": {
      "text/plain": [
       "0.9662855809612693"
      ]
     },
     "execution_count": 24,
     "metadata": {},
     "output_type": "execute_result"
    }
   ],
   "source": [
    "8283/8572 # sequence length <= 300, accounts for 96.6% of total data"
   ]
  },
  {
   "cell_type": "code",
   "execution_count": 25,
   "metadata": {},
   "outputs": [
    {
     "name": "stdout",
     "output_type": "stream",
     "text": [
      "8283\n"
     ]
    }
   ],
   "source": [
    "print(len(len_list))"
   ]
  },
  {
   "cell_type": "code",
   "execution_count": null,
   "metadata": {},
   "outputs": [],
   "source": [
    "print(pos_seq_list)"
   ]
  },
  {
   "cell_type": "code",
   "execution_count": 27,
   "metadata": {},
   "outputs": [],
   "source": [
    "# Taken from DNAbert's codebase - motif/motif_utils.py\n",
    "def seq2kmer(seq, k):\n",
    "    \"\"\"\n",
    "    Convert original sequence to kmers\n",
    "    \n",
    "    Arguments:\n",
    "    seq -- str, original sequence.\n",
    "    k -- int, kmer of length k specified.\n",
    "    \n",
    "    Returns:\n",
    "    kmers -- str, kmers separated by space\n",
    "\n",
    "    \"\"\"\n",
    "    kmer = [seq[x:x+k] for x in range(len(seq)+1-k)]\n",
    "    kmers = \" \".join(kmer)\n",
    "    return kmers"
   ]
  },
  {
   "cell_type": "code",
   "execution_count": 30,
   "metadata": {},
   "outputs": [],
   "source": [
    "data_seq_list, data_label_list= [], []\n",
    "KMER= 6\n",
    "\n",
    "for seq_elem in pos_seq_list:\n",
    "    # Read the sequence file\n",
    "    #pos_sequence = str(seq_dict[sil_id].seq)\n",
    "    #print(pos_sequence, type(pos_sequence), len(pos_sequence))\n",
    "    total_subseq= 20\n",
    "    replace_subseq= 12\n",
    "\n",
    "    # create a negative sequence corresponding to each positive sequence\n",
    "    # divide it into 20 subsequences, and randomly select 12 subsequences and replace them with random values\n",
    "    # since they are 300 bp in length, they are divisible by 20\n",
    "\n",
    "    subseq_length= int(len(seq_elem)/total_subseq)\n",
    "    #print('Subseq_length: ', subseq_length)\n",
    "    random_subseq= []\n",
    "    neg_sequence = seq_elem\n",
    "\n",
    "    for i in range(replace_subseq):\n",
    "        subseq_to_replace= ''.join(random.choices('CGTA', k=subseq_length))\n",
    "        random_start_pos= random.randint(0, len(seq_elem)-1-subseq_length)\n",
    "        neg_sequence= neg_sequence[:random_start_pos] + subseq_to_replace + neg_sequence[random_start_pos+subseq_length: ]\n",
    "\n",
    "    #print('Positive sequence: ', pos_sequence, len(pos_sequence))\n",
    "    #print('Negative sequence: ', neg_sequence, len(neg_sequence))\n",
    "\n",
    "    data_seq_list.append(seq2kmer(seq_elem, KMER))\n",
    "    data_label_list.append(1)\n",
    "\n",
    "    data_seq_list.append(seq2kmer(neg_sequence, KMER))\n",
    "    data_label_list.append(0)"
   ]
  },
  {
   "cell_type": "code",
   "execution_count": 31,
   "metadata": {},
   "outputs": [
    {
     "name": "stdout",
     "output_type": "stream",
     "text": [
      "16566\n"
     ]
    }
   ],
   "source": [
    "print(len(data_seq_list))"
   ]
  },
  {
   "cell_type": "code",
   "execution_count": 33,
   "metadata": {},
   "outputs": [
    {
     "name": "stdout",
     "output_type": "stream",
     "text": [
      "['CTAAAA TAAAAG AAAAGT AAAGTA AAGTAT AGTATC GTATCC TATCCC ATCCCT TCCCTG CCCTGT CCTGTG CTGTGT TGTGTG GTGTGA TGTGAC GTGACG TGACGC GACGCT ACGCTG CGCTGA GCTGAA CTGAAG TGAAGG GAAGGG AAGGGT AGGGTA GGGTAT GGTATT GTATTG TATTGT ATTGTA TTGTAG TGTAGT GTAGTA TAGTAT AGTATA GTATAT TATATC ATATCC TATCCA ATCCAG TCCAGA CCAGAC CAGACA AGACAG GACAGG ACAGGG CAGGGT AGGGTT GGGTTG GGTTGG GTTGGG TTGGGC TGGGCT GGGCTA GGCTAG GCTAGT CTAGTT TAGTTT AGTTTT GTTTTG TTTTGA TTTGAA TTGAAG TGAAGC GAAGCA AAGCAT AGCATT GCATTG CATTGG ATTGGA TTGGAA TGGAAC GGAACA GAACAC AACACG ACACGC CACGCC ACGCCC CGCCCT GCCCTT CCCTTA CCTTAT CTTATA TTATAC TATACC ATACCA TACCAG ACCAGA CCAGAT CAGATT AGATTT GATTTA ATTTAG TTTAGA TTAGAG TAGAGT AGAGTC GAGTCT AGTCTG GTCTGC TCTGCT CTGCTA TGCTAT GCTATG CTATGG TATGGA ATGGAA TGGAAT GGAATT GAATTG AATTGA ATTGAC TTGACA TGACAG GACAGA ACAGAT CAGATC AGATCC GATCCG ATCCGT TCCGTA CCGTAC CGTACC GTACCC TACCCT ACCCTT CCCTTT CCTTTC CTTTCA TTTCAG TTCAGC TCAGCG CAGCGG AGCGGT GCGGTT CGGTTT GGTTTG GTTTGG TTTGGC TTGGCT TGGCTT GGCTTT GCTTTC CTTTCT TTTCTC TTCTCG TCTCGG CTCGGC TCGGCG CGGCGG GGCGGG GCGGGC CGGGCC GGGCCA GGCCAG GCCAGG CCAGGT CAGGTG AGGTGT GGTGTT GTGTTC TGTTCC GTTCCT TTCCTT TCCTTG CCTTGC CTTGCC TTGCCC TGCCCT GCCCTC CCCTCA CCTCAT CTCATT TCATTA CATTAT ATTATT TTATTC TATTCA ATTCAA TTCAAG TCAAGC CAAGCC AAGCCG AGCCGG GCCGGG CCGGGC CGGGCC GGGCCA GGCCAC GCCACC CCACCT CACCTC ACCTCC', 'AAAGCA AAGCAG AGCAGG GCAGGG CAGGGA AGGGAC GGGACA GGACAG GACAGG ACAGGA CAGGAC AGGACA GGACAC GACACC ACACCC CACCCC ACCCCC CCCCCA CCCCAG CCCAGA CCAGAG CAGAGC AGAGCT GAGCTT AGCTTC GCTTCA CTTCAT TTCATG TCATGG CATGGC ATGGCC TGGCCT GGCCTG GCCTGT CCTGTG CTGTGG TGTGGT GTGGTG TGGTGC GGTGCC GTGCCT TGCCTG GCCTGA CCTGAG CTGAGC TGAGCA GAGCAT AGCATG GCATGG CATGGC ATGGCC TGGCCT GGCCTG GCCTGG CCTGGC CTGGCC TGGCCT GGCCTG GCCTGC CCTGCC CTGCCC TGCCCG GCCCGG CCCGGC CCGGCC CGGCCT GGCCTC GCCTCA CCTCAC CTCACA TCACAG CACAGG ACAGGA CAGGAC AGGACT GGACTC GACTCC ACTCCG CTCCGG TCCGGA CCGGAC CGGACC GGACCC GACCCC ACCCCA CCCCAC CCCACA CCACAC CACACA ACACAC CACACC ACACCA CACCAC ACCACA CCACAT CACATG ACATGT CATGTC ATGTCC TGTCCT GTCCTC TCCTCG CCTCGC CTCGCC TCGCCG CGCCGG GCCGGA CCGGAC CGGACA GGACAC GACACC ACACCT CACCTG ACCTGT CCTGTG CTGTGC TGTGCC GTGCCC TGCCCA GCCCAC CCCACG CCACGA CACGAG ACGAGC CGAGCT GAGCTC AGCTCT GCTCTG CTCTGC TCTGCC CTGCCT TGCCTC GCCTCG CCTCGG CTCGGG TCGGGC CGGGCC GGGCCC GGCCCT GCCCTA CCCTAG CCTAGT CTAGTG TAGTGG AGTGGA GTGGAA TGGAAC GGAACC GAACCC AACCCC ACCCCT CCCCTG CCCTGG CCTGGC CTGGCC TGGCCT GGCCTG GCCTGT CCTGTG CTGTGT TGTGTG GTGTGG TGTGGA GTGGAC TGGACT GGACTC GACTCC ACTCCC CTCCCA TCCCAG CCCAGA CCAGAG CAGAGG AGAGGC GAGGCA AGGCAC GGCACC GCACCT CACCTC ACCTCC CCTCCA CTCCAG TCCAGG CCAGGA CAGGAC AGGACT GGACTT GACTTA ACTTAC CTTACC TTACCC TACCCT ACCCTG CCCTGG CCTGGG', 'AAAGAA AAGAAC AGAACG GAACGC AACGCA ACGCAT CGCATT GCATTT CATTTC ATTTCA TTTCAC TTCACA TCACAC CACACC ACACCC CACCCC ACCCCC CCCCCA CCCCAG CCCAGA CCAGAG CAGAGC AGAGCT GAGCTT AGCTTC GCTTCA CTTCAT TTCATG TCATGG CATGGC ATGGCC TGGCCT GGCCTG GCCTGT CCTGTG CTGTGG TGTGGT GTGGTG TGGTGC GGTGCC GTGCCT TGCCTG GCCTGA CCTGAG CTGAGC TGAGCA GAGCAT AGCATG GCATGG CATGGC ATGGCA TGGCAG GGCAGC GCAGCC CAGCCA AGCCAT GCCATG CCATGA CATGAT ATGATG TGATGT GATGTC ATGTCT TGTCTA GTCTAG TCTAGG CTAGGT TAGGTG AGGTGC GGTGCT GTGCTG TGCTGG GCTGGA CTGGAC TGGACT GGACTC GACTCC ACTCCG CTCCGG TCCGGA CCGGAC CGGACC GGACCC GACCCC ACCCCA CCCCAC CCCACA CCACAA CACAAA ACAAAT CAAATA AAATAC AATACT ATACTG TACTGA ACTGAG CTGAGT TGAGTC GAGTCG AGTCGC GTCGCC TCGCCC CGCCCT GCCCTG CCCTGT CCTGTG CTGTGA TGTGAC GTGACA TGACAC GACACC ACACCT CACCTG ACCTGT CCTGTG CTGTGC TGTGCC GTGCCC TGCCCA GCCCAC CCCACG CCACGA CACGAG ACGAGT CGAGTA GAGTAA AGTAAC GTAACC TAACCG AACCGT ACCGTA CCGTAC CGTACT GTACTG TACTGG ACTGGC CTGGCC TGGCCC GGCCCT GCCCTA CCCTAG CCTAGT CTAGTG TAGTGA AGTGAC GTGACC TGACCG GACCGA ACCGAT CCGATT CGATTA GATTAC ATTACG TTACGT TACGTC ACGTCC CGTCCG GTCCGG TCCGGG CCGGGT CGGGTG GGGTGG GGTGGA GTGGAC TGGACT GGACTC GACTCC ACTCCC CTCCCA TCCCAG CCCAGT CCAGTA CAGTAG AGTAGA GTAGAC TAGACT AGACTG GACTGG ACTGGC CTGGCG TGGCGT GGCGTT GCGTTT CGTTTA GTTTAT TTTATA TTATAA TATAAG ATAAGC TAAGCT AAGCTT AGCTTT GCTTTG CTTTGG TTTGGG', 'AGCTAT GCTATA CTATAG TATAGT ATAGTG TAGTGT AGTGTC GTGTCC TGTCCA GTCCAG TCCAGC CCAGCA CAGCAG AGCAGG GCAGGG CAGGGA AGGGAG GGGAGG GGAGGG GAGGGC AGGGCG GGGCGA GGCGAG GCGAGC CGAGCC GAGCCC AGCCCC GCCCCT CCCCTG CCCTGT CCTGTG CTGTGC TGTGCC GTGCCT TGCCTA GCCTAC CCTACT CTACTC TACTCG ACTCGG CTCGGG TCGGGG CGGGGG GGGGGA GGGGAG GGGAGC GGAGCA GAGCAG AGCAGG GCAGGT CAGGTG AGGTGC GGTGCC GTGCCT TGCCTT GCCTTC CCTTCT CTTCTC TTCTCC TCTCCA CTCCAC TCCACA CCACAC CACACC ACACCC CACCCA ACCCAG CCCAGA CCAGAC CAGACC AGACCC GACCCT ACCCTT CCCTTG CCTTGG CTTGGT TTGGTG TGGTGT GGTGTT GTGTTC TGTTCC GTTCCC TTCCCA TCCCAC CCCACA CCACAT CACATT ACATTA CATTAG ATTAGC TTAGCA TAGCAC AGCACC GCACCT CACCTG ACCTGT CCTGTC CTGTCC TGTCCC GTCCCA TCCCAA CCCAAT CCAATG CAATGG AATGGC ATGGCT TGGCTG GGCTGG GCTGGG CTGGGC TGGGCG GGGCGG GGCGGC GCGGCT CGGCTG GGCTGG GCTGGT CTGGTC TGGTCC GGTCCC GTCCCG TCCCGA CCCGAG CCGAGA CGAGAG GAGAGA AGAGAC GAGACA AGACAC GACACT ACACTG CACTGG ACTGGA CTGGAT TGGATC GGATCT GATCTG ATCTGG TCTGGG CTGGGA TGGGAG GGGAGC GGAGCT GAGCTG AGCTGA GCTGAG CTGAGG TGAGGT GAGGTC AGGTCC GGTCCC GTCCCC TCCCCA CCCCAC CCCACC CCACCC CACCCA ACCCAG CCCAGT CCAGTG CAGTGT AGTGTC GTGTCT TGTCTG GTCTGT TCTGTC CTGTCA TGTCAG GTCAGC TCAGCC CAGCCA AGCCAG GCCAGG CCAGGG CAGGGA AGGGAA GGGAAG GGAAGG GAAGGG AAGGGA AGGGAG GGGAGG GGAGGG GAGGGA AGGGAG GGGAGT GGAGTG GAGTGC AGTGCT GTGCTG TGCTGG GCTGGG CTGGGA TGGGAG GGGAGC', 'AGCTAT GCTATA CTATAG TATAGT ATAGTG TAGTGT AGTGTC GTGTCC TGTCCA GTCCAG TCCAGC CCAGCA CAGCAG AGCAGT GCAGTG CAGTGG AGTGGA GTGGAC TGGACT GGACTG GACTGG ACTGGT CTGGTT TGGTTT GGTTTC GTTTCT TTTCTG TTCTGG TCTGGA CTGGAG TGGAGC GGAGCA GAGCAT AGCATC GCATCT CATCTC ATCTCT TCTCTC CTCTCG TCTCGG CTCGGG TCGGGG CGGGGG GGGGGA GGGGAG GGGAGC GGAGCT GAGCTT AGCTTG GCTTGC CTTGCG TTGCGG TGCGGG GCGGGT CGGGTA GGGTAC GGTACT GTACTC TACTCC ACTCCA CTCCAC TCCACA CCACAC CACACC ACACCC CACCCA ACCCAG CCCAGA CCAGAC CAGACC AGACCC GACCCT ACCCTT CCCTTG CCTTGG CTTGGT TTGGTG TGGTGA GGTGAT GTGATT TGATTT GATTTT ATTTTG TTTTGC TTTGCG TTGCGA TGCGAA GCGAAC CGAACG GAACGC AACGCA ACGCAC CGCACC GCACCT CACCTG ACCTGT CCTGTC CTGTCT TGTCTC GTCTCT TCTCTA CTCTAC TCTACA CTACAA TACAAG ACAAGA CAAGAG AAGAGA AGAGAG GAGAGC AGAGCG GAGCGG AGCGGC GCGGCT CGGCTG GGCTGG GCTGGT CTGGTC TGGTCC GGTCCC GTCCCG TCCCGA CCCGAG CCGAGA CGAGAG GAGAGA AGAGAC GAGACA AGACAC GACACC ACACCA CACCAC ACCACG CCACGG CACGGT ACGGTC CGGTCC GGTCCG GTCCGG TCCGGG CCGGGA CGGGAC GGGACG GGACGC GACGCC ACGCCG CGCCGC GCCGCA CCGCAG CGCAGT GCAGTT CAGTTT AGTTTA GTTTAC TTTACC TTACCC TACCCA ACCCAG CCCAGT CCAGTG CAGTGT AGTGTC GTGTCT TGTCTG GTCTGT TCTGTC CTGTCA TGTCAG GTCAGC TCAGCC CAGCCA AGCCAG GCCAGG CCAGGG CAGGGA AGGGAA GGGAAG GGAAGG GAAGGG AAGGGA AGGGAG GGGAGG GGAGGG GAGGGA AGGGAG GGGAGT GGAGTG GAGTGC AGTGCT GTGCTG TGCTGG GCTGGG CTGGGA TGGGAG GGGAGC', 'GCTAAT CTAATA TAATAT AATATT ATATTG TATTGA ATTGAT TTGATT TGATTG GATTGA ATTGAT TTGATT TGATTT GATTTT ATTTTC TTTTCA TTTCAT TTCATA TCATAT CATATA ATATAT TATATT ATATTG TATTGA ATTGAA TTGAAC TGAACT GAACTA AACTAT ACTATC CTATCC TATCCT ATCCTT TCCTTG CCTTGC CTTGCA TTGCAT TGCATT GCATTC CATTCC ATTCCA TTCCAG TCCAGG CCAGGA CAGGAA AGGAAT GGAATG GAATGA AATGAA ATGAAT TGAATC GAATCC AATCCT ATCCTG TCCTGC CCTGCT CTGCTT TGCTTG GCTTGG CTTGGT TTGGTT TGGTTA GGTTAG GTTAGG TTAGGG TAGGGT AGGGTG GGGTGT GGTGTA GTGTAG TGTAGA GTAGAG TAGAGT AGAGTC GAGTCC AGTCCT GTCCTT TCCTTT CCTTTA CTTTAA TTTAAC TTAACT TAACTA AACTAT ACTATA CTATAC TATACT ATACTG TACTGC ACTGCT CTGCTA TGCTAA GCTAAA CTAAAT TAAATT AAATTC AATTCG ATTCGT TTCGTT TCGTTT CGTTTT GTTTTG TTTTGC TTTGCT TTGCTG TGCTGG GCTGGC CTGGCA TGGCAT GGCATT GCATTT CATTTT ATTTTG TTTTGT TTTGTT TTGTTG TGTTGA GTTGAG TTGAGG TGAGGA GAGGAC AGGACT GGACTT GACTTT ACTTTC CTTTCC TTTCCC TTCCCA TCCCAG CCCAGT CCAGTG CAGTGA AGTGAG GTGAGG TGAGGC GAGGCT AGGCTC GGCTCA GCTCAT CTCATC TCATCA CATCAG ATCAGG TCAGGG CAGGGA AGGGAT GGGATA GGATAT GATATT ATATTG TATTGG ATTGGC TTGGCC TGGCCT GGCCTG GCCTGC CCTGCC CTGCCA TGCCAT GCCATT CCATTT CATTTC ATTTCT TTTCTC TTCTCT TCTCTT CTCTTG TCTTGT CTTGTG TTGTGG TGTGGT GTGGTG TGGTGT GGTGTG GTGTGT TGTGTT GTGTTT TGTTTG GTTTGT TTTGTC TTGTCT TGTCTG GTCTGG TCTGGC CTGGCT TGGCTT GGCTTT GCTTTA CTTTAA TTTAAT TTAATA TAATAT AATATG ATATGA TATGAG', 'GCTAAT CTAATA TAATAT AATATT ATATTG TATTGA ATTGAT TTGATT TGATTA GATTAT ATTATA TTATAT TATATA ATATAA TATAAG ATAAGA TAAGAG AAGAGA AGAGAT GAGATT AGATTC GATTCG ATTCGG TTCGGT TCGGTG CGGTGG GGTGGG GTGGGG TGGGGG GGGGGG GGGGGT GGGGTA GGGTAT GGTATG GTATGC TATGCA ATGCAT TGCATT GCATTC CATTCC ATTCCA TTCCAC TCCACG CCACGA CACGAC ACGACG CGACGT GACGTG ACGTGA CGTGAT GTGATA TGATAC GATACG ATACGA TACGAT ACGATC CGATCC GATCCA ATCCAG TCCAGT CCAGTT CAGTTA AGTTAG GTTAGG TTAGGG TAGGGT AGGGTG GGGTGT GGTGTG GTGTGG TGTGGC GTGGCT TGGCTA GGCTAT GCTATC CTATCA TATCAG ATCAGT TCAGTG CAGTGC AGTGCG GTGCGC TGCGCA GCGCAT CGCATA GCATAG CATAGT ATAGTA TAGTAT AGTATG GTATGA TATGAG ATGAGG TGAGGG GAGGGG AGGGGC GGGGCG GGGCGT GGCGTT GCGTTT CGTTTT GTTTTG TTTTGC TTTGCT TTGCTG TGCTGG GCTGGC CTGGCA TGGCAT GGCATT GCATTT CATTTT ATTTTG TTTTGT TTTGTG TTGTGC TGTGCG GTGCGA TGCGAG GCGAGA CGAGAA GAGAAA AGAAAT GAAATG AAATGT AATGTT ATGTTC TGTTCA GTTCAG TTCAGT TCAGTG CAGTGA AGTGAG GTGAGG TGAGGC GAGGCT AGGCTC GGCTCA GCTCAA CTCAAA TCAAAA CAAAAA AAAAAT AAAATA AAATAT AATATA ATATAG TATAGT ATAGTT TAGTTG AGTTGG GTTGGC TTGGCC TGGCCT GGCCTG GCCTGC CCTGCC CTGCCA TGCCAT GCCATT CCATTT CATTTC ATTTCT TTTCTC TTCTCT TCTCTT CTCTTG TCTTGT CTTGTG TTGTGG TGTGGT GTGGTG TGGTGT GGTGTG GTGTGT TGTGTT GTGTTT TGTTTG GTTTGT TTTGTC TTGTCT TGTCTT GTCTTC TCTTCT CTTCTT TTCTTA TCTTAC CTTACA TTACAC TACACG ACACGA CACGAT ACGATG CGATGA GATGAG', 'GAGTAG AGTAGC GTAGCC TAGCCT AGCCTT GCCTTT CCTTTA CTTTAT TTTATT TTATTT TATTTA ATTTAT TTTATT TTATTT TATTTT ATTTTT TTTTTT TTTTTT TTTTTT TTTTTG TTTTGT TTTGTT TTGTTC TGTTCT GTTCTG TTCTGC TCTGCT CTGCTT TGCTTG GCTTGA CTTGAA TTGAAA TGAAAA GAAAAT AAAATG AAATGC AATGCT ATGCTG TGCTGT GCTGTG CTGTGA TGTGAT GTGATA TGATAA GATAAG ATAAGC TAAGCT AAGCTT AGCTTA GCTTAC CTTACC TTACCT TACCTG ACCTGG CCTGGC CTGGCC TGGCCA GGCCAG GCCAGG CCAGGT CAGGTG AGGTGC GGTGCC GTGCCT TGCCTA GCCTAG CCTAGA CTAGAA TAGAAA AGAAAT GAAATG AAATGA AATGAT ATGATG TGATGC GATGCT ATGCTC TGCTCA GCTCAT CTCATT TCATTT CATTTT ATTTTA TTTTAT TTTATT TTATTT TATTTA ATTTAA TTTAAC TTAACC TAACCA AACCAC ACCACC CCACCA CACCAT ACCATA CCATAG CATAGC ATAGCC TAGCCA AGCCAC GCCACC CCACCC CACCCT ACCCTG CCCTGT CCTGTT CTGTTG TGTTGC GTTGCC TTGCCT TGCCTC GCCTCT CCTCTA CTCTAG TCTAGA CTAGAA TAGAAC AGAACC GAACCT AACCTC ACCTCA CCTCAG CTCAGT TCAGTG CAGTGT AGTGTA GTGTAC TGTACT GTACTC TACTCC ACTCCC CTCCCA TCCCAG CCCAGG CCAGGG CAGGGA AGGGAG GGGAGG GGAGGG GAGGGG AGGGGA GGGGAA GGGAAG GGAAGG GAAGGG AAGGGT AGGGTC GGGTCA GGTCAA GTCAAG TCAAGT CAAGTA AAGTAC AGTACA GTACAA TACAAA ACAAAG CAAAGC AAAGCC AAGCCT AGCCTG GCCTGA CCTGAC CTGACT TGACTC GACTCA ACTCAG CTCAGG TCAGGA CAGGAA AGGAAG GGAAGG GAAGGA AAGGAA AGGAAC GGAACC GAACCA AACCAC ACCACT CCACTT CACTTT ACTTTC CTTTCA TTTCAC TTCACA TCACAC CACACC ACACCA CACCAA ACCAAA CCAAAA CAAAAT AAAATG AAATGC', 'GAGTAG AGTAGC GTAGCC TAGCCT AGCCTT GCCTTT CCTTTA CTTTAT TTTATT TTATTT TATTTA ATTTAT TTTATT TTATTT TATTTT ATTTTT TTTTTT TTTTTT TTTTTA TTTTAC TTTACG TTACGT TACGTT ACGTTC CGTTCC GTTCCT TTCCTA TCCTAG CCTAGG CTAGGA TAGGAA AGGAAA GGAAAA GAAAAT AAAATG AAATGC AATGCT ATGCTG TGCTGT GCTGTG CTGTGA TGTGAT GTGATA TGATAA GATAAG ATAAGC TAAGCT AAGCTT AGCTTA GCTTAC CTTACC TTACCT TACCTG ACCTGG CCTGGC CTGGCC TGGCCA GGCCAG GCCAGG CCAGGT CAGGTT AGGTTC GGTTCC GTTCCG TTCCGT TCCGTG CCGTGA CGTGAC GTGACG TGACGT GACGTG ACGTGA CGTGAT GTGATG TGATGC GATGCT ATGCTC TGCTCT GCTCTT CTCTTT TCTTTT CTTTTC TTTTCG TTTCGT TTCGTA TCGTAG CGTAGT GTAGTA TAGTAC AGTACC GTACCA TACCAC ACCACC CCACCA CACCAT ACCATA CCATAG CATAGC ATAGCC TAGCCA AGCCAC GCCACC CCACCC CACCCT ACCCTG CCCTGT CCTGTT CTGTTG TGTTGC GTTGCC TTGCCT TGCCTC GCCTCT CCTCTA CTCTAG TCTAGA CTAGAT TAGATC AGATCC GATCCC ATCCCC TCCCCT CCCCTA CCCTAG CCTAGC CTAGCT TAGCTC AGCTCG GCTCGT CTCGTG TCGTGC CGTGCC GTGCCC TGCCCT GCCCTG CCCTGG CCTGGG CTGGGA TGGGAC GGGACA GGACAT GACATG ACATGT CATGTT ATGTTC TGTTCT GTTCTC TTCTCC TCTCCG CTCCGC TCCGCT CCGCTT CGCTTA GCTTAC CTTACA TTACAA TACAAA ACAAAG CAAAGC AAAGCC AAGCCT AGCCTG GCCTGA CCTGAC CTGACT TGACTC GACTCA ACTCAG CTCAGG TCAGGA CAGGAA AGGAAG GGAAGG GAAGGA AAGGAA AGGAAC GGAACC GAACCT AACCTC ACCTCT CCTCTT CTCTTA TCTTAT CTTATC TTATCT TATCTT ATCTTG TCTTGC CTTGCA TTGCAA TGCAAA GCAAAA CAAAAT AAAATG AAATGC']\n"
     ]
    }
   ],
   "source": [
    "print(data_seq_list[1:10])"
   ]
  },
  {
   "cell_type": "code",
   "execution_count": 35,
   "metadata": {},
   "outputs": [
    {
     "name": "stdout",
     "output_type": "stream",
     "text": [
      "[0, 1, 0, 1, 0, 1, 0, 1, 0]\n"
     ]
    }
   ],
   "source": [
    "print(data_label_list[1:10])"
   ]
  },
  {
   "cell_type": "code",
   "execution_count": 37,
   "metadata": {},
   "outputs": [
    {
     "data": {
      "text/html": [
       "<div>\n",
       "<style scoped>\n",
       "    .dataframe tbody tr th:only-of-type {\n",
       "        vertical-align: middle;\n",
       "    }\n",
       "\n",
       "    .dataframe tbody tr th {\n",
       "        vertical-align: top;\n",
       "    }\n",
       "\n",
       "    .dataframe thead th {\n",
       "        text-align: right;\n",
       "    }\n",
       "</style>\n",
       "<table border=\"1\" class=\"dataframe\">\n",
       "  <thead>\n",
       "    <tr style=\"text-align: right;\">\n",
       "      <th></th>\n",
       "      <th>sequence</th>\n",
       "      <th>label</th>\n",
       "    </tr>\n",
       "  </thead>\n",
       "  <tbody>\n",
       "    <tr>\n",
       "      <th>0</th>\n",
       "      <td>CTAAAA TAAAAG AAAAGT AAAGTA AAGTAT AGTATC GTAT...</td>\n",
       "      <td>1</td>\n",
       "    </tr>\n",
       "    <tr>\n",
       "      <th>1</th>\n",
       "      <td>CTAAAA TAAAAG AAAAGT AAAGTA AAGTAT AGTATC GTAT...</td>\n",
       "      <td>0</td>\n",
       "    </tr>\n",
       "    <tr>\n",
       "      <th>2</th>\n",
       "      <td>AAAGCA AAGCAG AGCAGG GCAGGG CAGGGA AGGGAC GGGA...</td>\n",
       "      <td>1</td>\n",
       "    </tr>\n",
       "    <tr>\n",
       "      <th>3</th>\n",
       "      <td>AAAGAA AAGAAC AGAACG GAACGC AACGCA ACGCAT CGCA...</td>\n",
       "      <td>0</td>\n",
       "    </tr>\n",
       "    <tr>\n",
       "      <th>4</th>\n",
       "      <td>AGCTAT GCTATA CTATAG TATAGT ATAGTG TAGTGT AGTG...</td>\n",
       "      <td>1</td>\n",
       "    </tr>\n",
       "  </tbody>\n",
       "</table>\n",
       "</div>"
      ],
      "text/plain": [
       "                                            sequence  label\n",
       "0  CTAAAA TAAAAG AAAAGT AAAGTA AAGTAT AGTATC GTAT...      1\n",
       "1  CTAAAA TAAAAG AAAAGT AAAGTA AAGTAT AGTATC GTAT...      0\n",
       "2  AAAGCA AAGCAG AGCAGG GCAGGG CAGGGA AGGGAC GGGA...      1\n",
       "3  AAAGAA AAGAAC AGAACG GAACGC AACGCA ACGCAT CGCA...      0\n",
       "4  AGCTAT GCTATA CTATAG TATAGT ATAGTG TAGTGT AGTG...      1"
      ]
     },
     "execution_count": 37,
     "metadata": {},
     "output_type": "execute_result"
    }
   ],
   "source": [
    "sil_data_df= pd.DataFrame({'sequence': data_seq_list, 'label': data_label_list})\n",
    "sil_data_df.head()"
   ]
  },
  {
   "cell_type": "code",
   "execution_count": 38,
   "metadata": {},
   "outputs": [],
   "source": [
    "sil_data_df_shuffled = sil_data_df.sample(frac = 1)"
   ]
  },
  {
   "cell_type": "code",
   "execution_count": 39,
   "metadata": {},
   "outputs": [
    {
     "data": {
      "text/html": [
       "<div>\n",
       "<style scoped>\n",
       "    .dataframe tbody tr th:only-of-type {\n",
       "        vertical-align: middle;\n",
       "    }\n",
       "\n",
       "    .dataframe tbody tr th {\n",
       "        vertical-align: top;\n",
       "    }\n",
       "\n",
       "    .dataframe thead th {\n",
       "        text-align: right;\n",
       "    }\n",
       "</style>\n",
       "<table border=\"1\" class=\"dataframe\">\n",
       "  <thead>\n",
       "    <tr style=\"text-align: right;\">\n",
       "      <th></th>\n",
       "      <th>sequence</th>\n",
       "      <th>label</th>\n",
       "    </tr>\n",
       "  </thead>\n",
       "  <tbody>\n",
       "    <tr>\n",
       "      <th>299</th>\n",
       "      <td>GCTGCC CTGCCA TGCCAT GCCATG CCATGT CATGTT ATGT...</td>\n",
       "      <td>0</td>\n",
       "    </tr>\n",
       "    <tr>\n",
       "      <th>14490</th>\n",
       "      <td>CCCAGC CCAGCA CAGCAT AGCATT GCATTT CATTTT ATTT...</td>\n",
       "      <td>1</td>\n",
       "    </tr>\n",
       "    <tr>\n",
       "      <th>15416</th>\n",
       "      <td>TTGCCT TGCCTG GCCTGG CCTGGA CTGGAT TGGATG GGAT...</td>\n",
       "      <td>1</td>\n",
       "    </tr>\n",
       "    <tr>\n",
       "      <th>5322</th>\n",
       "      <td>TCTTGT CTTGTG TTGTGC TGTGCT GTGCTC TGCTCA GCTC...</td>\n",
       "      <td>1</td>\n",
       "    </tr>\n",
       "    <tr>\n",
       "      <th>12726</th>\n",
       "      <td>GAGGAC AGGACG GGACGA GACGAA ACGAAA CGAAAC GAAA...</td>\n",
       "      <td>1</td>\n",
       "    </tr>\n",
       "  </tbody>\n",
       "</table>\n",
       "</div>"
      ],
      "text/plain": [
       "                                                sequence  label\n",
       "299    GCTGCC CTGCCA TGCCAT GCCATG CCATGT CATGTT ATGT...      0\n",
       "14490  CCCAGC CCAGCA CAGCAT AGCATT GCATTT CATTTT ATTT...      1\n",
       "15416  TTGCCT TGCCTG GCCTGG CCTGGA CTGGAT TGGATG GGAT...      1\n",
       "5322   TCTTGT CTTGTG TTGTGC TGTGCT GTGCTC TGCTCA GCTC...      1\n",
       "12726  GAGGAC AGGACG GGACGA GACGAA ACGAAA CGAAAC GAAA...      1"
      ]
     },
     "execution_count": 39,
     "metadata": {},
     "output_type": "execute_result"
    }
   ],
   "source": [
    "sil_data_df_shuffled.head()"
   ]
  },
  {
   "cell_type": "code",
   "execution_count": 40,
   "metadata": {},
   "outputs": [],
   "source": [
    "sil_data_df_shuffled.to_csv('data_results/silencer_data_construction_1stNov2022.csv', index=False)"
   ]
  },
  {
   "cell_type": "markdown",
   "metadata": {},
   "source": [
    "## Needs to divide the silencer dataset into training, validation and test dataset"
   ]
  },
  {
   "cell_type": "code",
   "execution_count": 45,
   "metadata": {},
   "outputs": [
    {
     "name": "stdout",
     "output_type": "stream",
     "text": [
      "<class 'pandas.core.series.Series'> <class 'pandas.core.series.Series'>\n",
      "(14909, 2) (1657, 2)\n"
     ]
    }
   ],
   "source": [
    "#prom_df= pd.read_csv(data_file)\n",
    "X_train, X_test, y_train, y_test= train_test_split(sil_data_df_shuffled.sequence, sil_data_df_shuffled.label, test_size=0.1, shuffle=True, random_state=42)\n",
    "print(type(X_train), type(y_train))\n",
    "train_df= pd.concat({'sequence': X_train, 'label': y_train}, axis=1)\n",
    "test_df= pd.concat({'sequence': X_test, 'label': y_test}, axis=1)\n",
    "print(train_df.shape, test_df.shape)\n",
    "train_df.to_csv(path.join('data_results/', 'silencer_train.tsv'), sep='\\t', index=False)\n",
    "test_df.to_csv(path.join('data_results/', 'silencer_dev.tsv'), sep='\\t', index=False)"
   ]
  }
 ],
 "metadata": {
  "kernelspec": {
   "display_name": "Python 3.6.13 ('dnabert')",
   "language": "python",
   "name": "python3"
  },
  "language_info": {
   "codemirror_mode": {
    "name": "ipython",
    "version": 3
   },
   "file_extension": ".py",
   "mimetype": "text/x-python",
   "name": "python",
   "nbconvert_exporter": "python",
   "pygments_lexer": "ipython3",
   "version": "3.6.13"
  },
  "orig_nbformat": 4,
  "vscode": {
   "interpreter": {
    "hash": "f5f8b864f00285f87bff7a6181a32c64bdf9bfab47497e97059dffafd4fea1b1"
   }
  }
 },
 "nbformat": 4,
 "nbformat_minor": 2
}
